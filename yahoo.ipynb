{
 "cells": [
  {
   "cell_type": "code",
   "execution_count": 3,
   "id": "f9678cb1",
   "metadata": {},
   "outputs": [],
   "source": [
    "import yfinance as yf\n",
    "from pymongo import MongoClient"
   ]
  },
  {
   "cell_type": "code",
   "execution_count": 2,
   "id": "25eed369",
   "metadata": {
    "collapsed": true
   },
   "outputs": [
    {
     "name": "stdout",
     "output_type": "stream",
     "text": [
      "Collecting yfinance\n",
      "  Downloading yfinance-0.2.12-py2.py3-none-any.whl (59 kB)\n",
      "\u001b[2K     \u001b[90m━━━━━━━━━━━━━━━━━━━━━━━━━━━━━━━━━━━━━━━━\u001b[0m \u001b[32m59.2/59.2 kB\u001b[0m \u001b[31m1.9 MB/s\u001b[0m eta \u001b[36m0:00:00\u001b[0m\n",
      "\u001b[?25hRequirement already satisfied: pandas>=1.3.0 in /root/.local/share/virtualenvs/code-AFz48Hjb/lib/python3.8/site-packages (from yfinance) (1.5.3)\n",
      "Collecting appdirs>=1.4.4\n",
      "  Downloading appdirs-1.4.4-py2.py3-none-any.whl (9.6 kB)\n",
      "Requirement already satisfied: beautifulsoup4>=4.11.1 in /root/.local/share/virtualenvs/code-AFz48Hjb/lib/python3.8/site-packages (from yfinance) (4.11.2)\n",
      "Requirement already satisfied: lxml>=4.9.1 in /root/.local/share/virtualenvs/code-AFz48Hjb/lib/python3.8/site-packages (from yfinance) (4.9.2)\n",
      "Requirement already satisfied: cryptography>=3.3.2 in /root/.local/share/virtualenvs/code-AFz48Hjb/lib/python3.8/site-packages (from yfinance) (39.0.1)\n",
      "Requirement already satisfied: requests>=2.26 in /root/.local/share/virtualenvs/code-AFz48Hjb/lib/python3.8/site-packages (from yfinance) (2.28.2)\n",
      "Requirement already satisfied: numpy>=1.16.5 in /root/.local/share/virtualenvs/code-AFz48Hjb/lib/python3.8/site-packages (from yfinance) (1.24.2)\n",
      "Requirement already satisfied: pytz>=2022.5 in /root/.local/share/virtualenvs/code-AFz48Hjb/lib/python3.8/site-packages (from yfinance) (2022.7.1)\n",
      "Collecting multitasking>=0.0.7\n",
      "  Downloading multitasking-0.0.11-py3-none-any.whl (8.5 kB)\n",
      "Collecting frozendict>=2.3.4\n",
      "  Downloading frozendict-2.3.4-cp38-cp38-manylinux_2_17_x86_64.manylinux2014_x86_64.whl (110 kB)\n",
      "\u001b[2K     \u001b[90m━━━━━━━━━━━━━━━━━━━━━━━━━━━━━━━━━━━━━━━\u001b[0m \u001b[32m111.0/111.0 kB\u001b[0m \u001b[31m3.1 MB/s\u001b[0m eta \u001b[36m0:00:00\u001b[0m\n",
      "\u001b[?25hCollecting html5lib>=1.1\n",
      "  Downloading html5lib-1.1-py2.py3-none-any.whl (112 kB)\n",
      "\u001b[2K     \u001b[90m━━━━━━━━━━━━━━━━━━━━━━━━━━━━━━━━━━━━━━━\u001b[0m \u001b[32m112.2/112.2 kB\u001b[0m \u001b[31m4.9 MB/s\u001b[0m eta \u001b[36m0:00:00\u001b[0m\n",
      "\u001b[?25hRequirement already satisfied: soupsieve>1.2 in /root/.local/share/virtualenvs/code-AFz48Hjb/lib/python3.8/site-packages (from beautifulsoup4>=4.11.1->yfinance) (2.4)\n",
      "Requirement already satisfied: cffi>=1.12 in /root/.local/share/virtualenvs/code-AFz48Hjb/lib/python3.8/site-packages (from cryptography>=3.3.2->yfinance) (1.15.1)\n",
      "Requirement already satisfied: webencodings in /root/.local/share/virtualenvs/code-AFz48Hjb/lib/python3.8/site-packages (from html5lib>=1.1->yfinance) (0.5.1)\n",
      "Requirement already satisfied: six>=1.9 in /root/.local/share/virtualenvs/code-AFz48Hjb/lib/python3.8/site-packages (from html5lib>=1.1->yfinance) (1.16.0)\n",
      "Requirement already satisfied: python-dateutil>=2.8.1 in /root/.local/share/virtualenvs/code-AFz48Hjb/lib/python3.8/site-packages (from pandas>=1.3.0->yfinance) (2.8.2)\n",
      "Requirement already satisfied: certifi>=2017.4.17 in /root/.local/share/virtualenvs/code-AFz48Hjb/lib/python3.8/site-packages (from requests>=2.26->yfinance) (2022.12.7)\n",
      "Requirement already satisfied: urllib3<1.27,>=1.21.1 in /root/.local/share/virtualenvs/code-AFz48Hjb/lib/python3.8/site-packages (from requests>=2.26->yfinance) (1.26.14)\n",
      "Requirement already satisfied: idna<4,>=2.5 in /root/.local/share/virtualenvs/code-AFz48Hjb/lib/python3.8/site-packages (from requests>=2.26->yfinance) (3.4)\n",
      "Requirement already satisfied: charset-normalizer<4,>=2 in /root/.local/share/virtualenvs/code-AFz48Hjb/lib/python3.8/site-packages (from requests>=2.26->yfinance) (3.0.1)\n",
      "Requirement already satisfied: pycparser in /root/.local/share/virtualenvs/code-AFz48Hjb/lib/python3.8/site-packages (from cffi>=1.12->cryptography>=3.3.2->yfinance) (2.21)\n",
      "Installing collected packages: multitasking, appdirs, html5lib, frozendict, yfinance\n",
      "Successfully installed appdirs-1.4.4 frozendict-2.3.4 html5lib-1.1 multitasking-0.0.11 yfinance-0.2.12\n"
     ]
    }
   ],
   "source": [
    "!pip install yfinance"
   ]
  },
  {
   "cell_type": "code",
   "execution_count": 14,
   "id": "c366fe61",
   "metadata": {},
   "outputs": [],
   "source": [
    "quote = yf.Ticker('AAPL')"
   ]
  },
  {
   "cell_type": "code",
   "execution_count": 23,
   "id": "5a314fc9",
   "metadata": {},
   "outputs": [],
   "source": [
    "# period = yf.HistoricalPrices()\n",
    "period= '1mo'\n",
    "interval = '1d'\n",
    "hist = quote.history(period=period, interval=interval)"
   ]
  },
  {
   "cell_type": "code",
   "execution_count": 16,
   "id": "785c487e",
   "metadata": {},
   "outputs": [],
   "source": [
    "client = MongoClient('mongo')\n",
    "db = client[\"reddit_db\"]\n",
    "yf_db = db[\"yahoo_finance\"]\n",
    "# yf.insert_many(hist.to_dict('records'))\n",
    "# hist.drop(['Dividends','Stock Splits'], axis = 1, inplace = True)"
   ]
  },
  {
   "cell_type": "code",
   "execution_count": 7,
   "id": "280bb4b3",
   "metadata": {},
   "outputs": [],
   "source": [
    "cur = yf.find()"
   ]
  },
  {
   "cell_type": "code",
   "execution_count": 8,
   "id": "4bc2b465",
   "metadata": {},
   "outputs": [
    {
     "ename": "StopIteration",
     "evalue": "",
     "output_type": "error",
     "traceback": [
      "\u001b[0;31m---------------------------------------------------------------------------\u001b[0m",
      "\u001b[0;31mStopIteration\u001b[0m                             Traceback (most recent call last)",
      "Cell \u001b[0;32mIn[8], line 1\u001b[0m\n\u001b[0;32m----> 1\u001b[0m \u001b[38;5;28;43mnext\u001b[39;49m\u001b[43m(\u001b[49m\u001b[43mcur\u001b[49m\u001b[43m)\u001b[49m\n",
      "File \u001b[0;32m~/.local/share/virtualenvs/code-AFz48Hjb/lib/python3.8/site-packages/pymongo/cursor.py:1251\u001b[0m, in \u001b[0;36mCursor.next\u001b[0;34m(self)\u001b[0m\n\u001b[1;32m   1249\u001b[0m     \u001b[38;5;28;01mreturn\u001b[39;00m \u001b[38;5;28mself\u001b[39m\u001b[38;5;241m.\u001b[39m__data\u001b[38;5;241m.\u001b[39mpopleft()\n\u001b[1;32m   1250\u001b[0m \u001b[38;5;28;01melse\u001b[39;00m:\n\u001b[0;32m-> 1251\u001b[0m     \u001b[38;5;28;01mraise\u001b[39;00m \u001b[38;5;167;01mStopIteration\u001b[39;00m\n",
      "\u001b[0;31mStopIteration\u001b[0m: "
     ]
    }
   ],
   "source": [
    "next(cur)"
   ]
  },
  {
   "cell_type": "code",
   "execution_count": 6,
   "id": "93f712e6",
   "metadata": {},
   "outputs": [],
   "source": [
    "yf.drop()"
   ]
  },
  {
   "cell_type": "code",
   "execution_count": 9,
   "id": "8dd7ac9b",
   "metadata": {},
   "outputs": [],
   "source": [
    "from yf_data import *"
   ]
  },
  {
   "cell_type": "code",
   "execution_count": 17,
   "id": "e7e32519",
   "metadata": {},
   "outputs": [
    {
     "ename": "UnboundLocalError",
     "evalue": "local variable 'yf' referenced before assignment",
     "output_type": "error",
     "traceback": [
      "\u001b[0;31m---------------------------------------------------------------------------\u001b[0m",
      "\u001b[0;31mUnboundLocalError\u001b[0m                         Traceback (most recent call last)",
      "Cell \u001b[0;32mIn[17], line 1\u001b[0m\n\u001b[0;32m----> 1\u001b[0m \u001b[43myf_data\u001b[49m\u001b[43m(\u001b[49m\u001b[43m)\u001b[49m\n",
      "File \u001b[0;32m/home/dev/code/yf_data.py:5\u001b[0m, in \u001b[0;36myf_data\u001b[0;34m(quote, period, interval)\u001b[0m\n\u001b[1;32m      4\u001b[0m \u001b[38;5;28;01mdef\u001b[39;00m \u001b[38;5;21myf_data\u001b[39m(quote \u001b[38;5;241m=\u001b[39m \u001b[38;5;124m'\u001b[39m\u001b[38;5;124mAAPL\u001b[39m\u001b[38;5;124m'\u001b[39m, period \u001b[38;5;241m=\u001b[39m \u001b[38;5;124m'\u001b[39m\u001b[38;5;124m1mo\u001b[39m\u001b[38;5;124m'\u001b[39m, interval \u001b[38;5;241m=\u001b[39m \u001b[38;5;124m'\u001b[39m\u001b[38;5;124m1d\u001b[39m\u001b[38;5;124m'\u001b[39m):\n\u001b[0;32m----> 5\u001b[0m     quote \u001b[38;5;241m=\u001b[39m \u001b[43myf\u001b[49m\u001b[38;5;241m.\u001b[39mTicker(\u001b[38;5;124m'\u001b[39m\u001b[38;5;124mquote\u001b[39m\u001b[38;5;124m'\u001b[39m)\n\u001b[1;32m      6\u001b[0m     hist \u001b[38;5;241m=\u001b[39m quote\u001b[38;5;241m.\u001b[39mhistory(period\u001b[38;5;241m=\u001b[39mperiod, interval\u001b[38;5;241m=\u001b[39minterval)\n\u001b[1;32m      7\u001b[0m     hist\u001b[38;5;241m.\u001b[39mdrop([\u001b[38;5;124m'\u001b[39m\u001b[38;5;124mDividends\u001b[39m\u001b[38;5;124m'\u001b[39m,\u001b[38;5;124m'\u001b[39m\u001b[38;5;124mStock Splits\u001b[39m\u001b[38;5;124m'\u001b[39m], axis \u001b[38;5;241m=\u001b[39m \u001b[38;5;241m1\u001b[39m, inplace \u001b[38;5;241m=\u001b[39m \u001b[38;5;28;01mTrue\u001b[39;00m)\n",
      "\u001b[0;31mUnboundLocalError\u001b[0m: local variable 'yf' referenced before assignment"
     ]
    }
   ],
   "source": [
    "yf_data()"
   ]
  },
  {
   "cell_type": "code",
   "execution_count": 11,
   "id": "2c64a540",
   "metadata": {},
   "outputs": [],
   "source": [
    "import yfinance as yf\n",
    "from pymongo import MongoClient"
   ]
  },
  {
   "cell_type": "code",
   "execution_count": null,
   "id": "95cbdff1",
   "metadata": {},
   "outputs": [],
   "source": []
  }
 ],
 "metadata": {
  "kernelspec": {
   "display_name": "Python 3 (ipykernel)",
   "language": "python",
   "name": "python3"
  },
  "language_info": {
   "codemirror_mode": {
    "name": "ipython",
    "version": 3
   },
   "file_extension": ".py",
   "mimetype": "text/x-python",
   "name": "python",
   "nbconvert_exporter": "python",
   "pygments_lexer": "ipython3",
   "version": "3.8.16"
  }
 },
 "nbformat": 4,
 "nbformat_minor": 5
}
