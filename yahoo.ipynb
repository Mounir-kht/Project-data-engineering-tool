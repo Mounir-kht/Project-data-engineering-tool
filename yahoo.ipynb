{
 "cells": [
  {
   "cell_type": "code",
   "execution_count": 412,
   "id": "f9678cb1",
   "metadata": {},
   "outputs": [],
   "source": [
    "import yfinance as yf\n",
    "from pymongo import MongoClient"
   ]
  },
  {
   "cell_type": "code",
   "execution_count": 413,
   "id": "25eed369",
   "metadata": {},
   "outputs": [],
   "source": [
    "#!pip install yfinance"
   ]
  },
  {
   "cell_type": "code",
   "execution_count": 414,
   "id": "c366fe61",
   "metadata": {},
   "outputs": [],
   "source": [
    "quote = yf.Ticker('AIR.PA')"
   ]
  },
  {
   "cell_type": "code",
   "execution_count": 415,
   "id": "5a314fc9",
   "metadata": {},
   "outputs": [
    {
     "data": {
      "text/html": [
       "<div>\n",
       "<style scoped>\n",
       "    .dataframe tbody tr th:only-of-type {\n",
       "        vertical-align: middle;\n",
       "    }\n",
       "\n",
       "    .dataframe tbody tr th {\n",
       "        vertical-align: top;\n",
       "    }\n",
       "\n",
       "    .dataframe thead th {\n",
       "        text-align: right;\n",
       "    }\n",
       "</style>\n",
       "<table border=\"1\" class=\"dataframe\">\n",
       "  <thead>\n",
       "    <tr style=\"text-align: right;\">\n",
       "      <th></th>\n",
       "      <th>Open</th>\n",
       "      <th>High</th>\n",
       "      <th>Low</th>\n",
       "      <th>Close</th>\n",
       "      <th>Volume</th>\n",
       "      <th>Dividends</th>\n",
       "      <th>Stock Splits</th>\n",
       "    </tr>\n",
       "    <tr>\n",
       "      <th>Date</th>\n",
       "      <th></th>\n",
       "      <th></th>\n",
       "      <th></th>\n",
       "      <th></th>\n",
       "      <th></th>\n",
       "      <th></th>\n",
       "      <th></th>\n",
       "    </tr>\n",
       "  </thead>\n",
       "  <tbody>\n",
       "    <tr>\n",
       "      <th>2023-01-20 00:00:00+01:00</th>\n",
       "      <td>117.279999</td>\n",
       "      <td>118.980003</td>\n",
       "      <td>116.919998</td>\n",
       "      <td>118.919998</td>\n",
       "      <td>1172376</td>\n",
       "      <td>0.0</td>\n",
       "      <td>0.0</td>\n",
       "    </tr>\n",
       "    <tr>\n",
       "      <th>2023-01-23 00:00:00+01:00</th>\n",
       "      <td>118.900002</td>\n",
       "      <td>119.519997</td>\n",
       "      <td>117.879997</td>\n",
       "      <td>119.220001</td>\n",
       "      <td>774252</td>\n",
       "      <td>0.0</td>\n",
       "      <td>0.0</td>\n",
       "    </tr>\n",
       "    <tr>\n",
       "      <th>2023-01-24 00:00:00+01:00</th>\n",
       "      <td>119.300003</td>\n",
       "      <td>120.779999</td>\n",
       "      <td>118.000000</td>\n",
       "      <td>120.779999</td>\n",
       "      <td>1197587</td>\n",
       "      <td>0.0</td>\n",
       "      <td>0.0</td>\n",
       "    </tr>\n",
       "    <tr>\n",
       "      <th>2023-01-25 00:00:00+01:00</th>\n",
       "      <td>121.000000</td>\n",
       "      <td>122.019997</td>\n",
       "      <td>120.059998</td>\n",
       "      <td>120.139999</td>\n",
       "      <td>1083764</td>\n",
       "      <td>0.0</td>\n",
       "      <td>0.0</td>\n",
       "    </tr>\n",
       "    <tr>\n",
       "      <th>2023-01-26 00:00:00+01:00</th>\n",
       "      <td>119.339996</td>\n",
       "      <td>121.199997</td>\n",
       "      <td>119.080002</td>\n",
       "      <td>120.940002</td>\n",
       "      <td>1267450</td>\n",
       "      <td>0.0</td>\n",
       "      <td>0.0</td>\n",
       "    </tr>\n",
       "    <tr>\n",
       "      <th>2023-01-27 00:00:00+01:00</th>\n",
       "      <td>117.239998</td>\n",
       "      <td>119.519997</td>\n",
       "      <td>116.320000</td>\n",
       "      <td>116.620003</td>\n",
       "      <td>1727332</td>\n",
       "      <td>0.0</td>\n",
       "      <td>0.0</td>\n",
       "    </tr>\n",
       "    <tr>\n",
       "      <th>2023-01-30 00:00:00+01:00</th>\n",
       "      <td>115.680000</td>\n",
       "      <td>117.019997</td>\n",
       "      <td>114.839996</td>\n",
       "      <td>115.519997</td>\n",
       "      <td>1080203</td>\n",
       "      <td>0.0</td>\n",
       "      <td>0.0</td>\n",
       "    </tr>\n",
       "    <tr>\n",
       "      <th>2023-01-31 00:00:00+01:00</th>\n",
       "      <td>112.820000</td>\n",
       "      <td>115.120003</td>\n",
       "      <td>112.500000</td>\n",
       "      <td>114.839996</td>\n",
       "      <td>1357678</td>\n",
       "      <td>0.0</td>\n",
       "      <td>0.0</td>\n",
       "    </tr>\n",
       "    <tr>\n",
       "      <th>2023-02-01 00:00:00+01:00</th>\n",
       "      <td>114.839996</td>\n",
       "      <td>116.040001</td>\n",
       "      <td>114.199997</td>\n",
       "      <td>116.040001</td>\n",
       "      <td>1102143</td>\n",
       "      <td>0.0</td>\n",
       "      <td>0.0</td>\n",
       "    </tr>\n",
       "    <tr>\n",
       "      <th>2023-02-02 00:00:00+01:00</th>\n",
       "      <td>115.959999</td>\n",
       "      <td>117.959999</td>\n",
       "      <td>115.820000</td>\n",
       "      <td>117.760002</td>\n",
       "      <td>1394176</td>\n",
       "      <td>0.0</td>\n",
       "      <td>0.0</td>\n",
       "    </tr>\n",
       "    <tr>\n",
       "      <th>2023-02-03 00:00:00+01:00</th>\n",
       "      <td>117.339996</td>\n",
       "      <td>117.720001</td>\n",
       "      <td>115.739998</td>\n",
       "      <td>117.120003</td>\n",
       "      <td>1587465</td>\n",
       "      <td>0.0</td>\n",
       "      <td>0.0</td>\n",
       "    </tr>\n",
       "    <tr>\n",
       "      <th>2023-02-06 00:00:00+01:00</th>\n",
       "      <td>116.639999</td>\n",
       "      <td>116.980003</td>\n",
       "      <td>114.300003</td>\n",
       "      <td>115.739998</td>\n",
       "      <td>1402253</td>\n",
       "      <td>0.0</td>\n",
       "      <td>0.0</td>\n",
       "    </tr>\n",
       "    <tr>\n",
       "      <th>2023-02-07 00:00:00+01:00</th>\n",
       "      <td>114.000000</td>\n",
       "      <td>114.540001</td>\n",
       "      <td>111.980003</td>\n",
       "      <td>112.300003</td>\n",
       "      <td>1645024</td>\n",
       "      <td>0.0</td>\n",
       "      <td>0.0</td>\n",
       "    </tr>\n",
       "    <tr>\n",
       "      <th>2023-02-08 00:00:00+01:00</th>\n",
       "      <td>113.019997</td>\n",
       "      <td>114.320000</td>\n",
       "      <td>112.099998</td>\n",
       "      <td>113.300003</td>\n",
       "      <td>1278365</td>\n",
       "      <td>0.0</td>\n",
       "      <td>0.0</td>\n",
       "    </tr>\n",
       "    <tr>\n",
       "      <th>2023-02-09 00:00:00+01:00</th>\n",
       "      <td>113.820000</td>\n",
       "      <td>114.440002</td>\n",
       "      <td>113.099998</td>\n",
       "      <td>113.660004</td>\n",
       "      <td>877598</td>\n",
       "      <td>0.0</td>\n",
       "      <td>0.0</td>\n",
       "    </tr>\n",
       "    <tr>\n",
       "      <th>2023-02-10 00:00:00+01:00</th>\n",
       "      <td>113.419998</td>\n",
       "      <td>114.500000</td>\n",
       "      <td>112.500000</td>\n",
       "      <td>113.739998</td>\n",
       "      <td>1306910</td>\n",
       "      <td>0.0</td>\n",
       "      <td>0.0</td>\n",
       "    </tr>\n",
       "    <tr>\n",
       "      <th>2023-02-13 00:00:00+01:00</th>\n",
       "      <td>114.300003</td>\n",
       "      <td>116.419998</td>\n",
       "      <td>114.199997</td>\n",
       "      <td>115.599998</td>\n",
       "      <td>1240331</td>\n",
       "      <td>0.0</td>\n",
       "      <td>0.0</td>\n",
       "    </tr>\n",
       "    <tr>\n",
       "      <th>2023-02-14 00:00:00+01:00</th>\n",
       "      <td>115.080002</td>\n",
       "      <td>116.980003</td>\n",
       "      <td>114.879997</td>\n",
       "      <td>115.980003</td>\n",
       "      <td>1245678</td>\n",
       "      <td>0.0</td>\n",
       "      <td>0.0</td>\n",
       "    </tr>\n",
       "    <tr>\n",
       "      <th>2023-02-15 00:00:00+01:00</th>\n",
       "      <td>116.180000</td>\n",
       "      <td>119.400002</td>\n",
       "      <td>116.080002</td>\n",
       "      <td>119.059998</td>\n",
       "      <td>1547125</td>\n",
       "      <td>0.0</td>\n",
       "      <td>0.0</td>\n",
       "    </tr>\n",
       "    <tr>\n",
       "      <th>2023-02-16 00:00:00+01:00</th>\n",
       "      <td>120.000000</td>\n",
       "      <td>124.940002</td>\n",
       "      <td>120.000000</td>\n",
       "      <td>124.940002</td>\n",
       "      <td>2621505</td>\n",
       "      <td>0.0</td>\n",
       "      <td>0.0</td>\n",
       "    </tr>\n",
       "    <tr>\n",
       "      <th>2023-02-17 00:00:00+01:00</th>\n",
       "      <td>125.000000</td>\n",
       "      <td>125.940002</td>\n",
       "      <td>123.480003</td>\n",
       "      <td>125.660004</td>\n",
       "      <td>1980783</td>\n",
       "      <td>0.0</td>\n",
       "      <td>0.0</td>\n",
       "    </tr>\n",
       "    <tr>\n",
       "      <th>2023-02-20 00:00:00+01:00</th>\n",
       "      <td>125.820000</td>\n",
       "      <td>126.040001</td>\n",
       "      <td>123.080002</td>\n",
       "      <td>123.500000</td>\n",
       "      <td>204804</td>\n",
       "      <td>0.0</td>\n",
       "      <td>0.0</td>\n",
       "    </tr>\n",
       "  </tbody>\n",
       "</table>\n",
       "</div>"
      ],
      "text/plain": [
       "                                 Open        High         Low       Close  \\\n",
       "Date                                                                        \n",
       "2023-01-20 00:00:00+01:00  117.279999  118.980003  116.919998  118.919998   \n",
       "2023-01-23 00:00:00+01:00  118.900002  119.519997  117.879997  119.220001   \n",
       "2023-01-24 00:00:00+01:00  119.300003  120.779999  118.000000  120.779999   \n",
       "2023-01-25 00:00:00+01:00  121.000000  122.019997  120.059998  120.139999   \n",
       "2023-01-26 00:00:00+01:00  119.339996  121.199997  119.080002  120.940002   \n",
       "2023-01-27 00:00:00+01:00  117.239998  119.519997  116.320000  116.620003   \n",
       "2023-01-30 00:00:00+01:00  115.680000  117.019997  114.839996  115.519997   \n",
       "2023-01-31 00:00:00+01:00  112.820000  115.120003  112.500000  114.839996   \n",
       "2023-02-01 00:00:00+01:00  114.839996  116.040001  114.199997  116.040001   \n",
       "2023-02-02 00:00:00+01:00  115.959999  117.959999  115.820000  117.760002   \n",
       "2023-02-03 00:00:00+01:00  117.339996  117.720001  115.739998  117.120003   \n",
       "2023-02-06 00:00:00+01:00  116.639999  116.980003  114.300003  115.739998   \n",
       "2023-02-07 00:00:00+01:00  114.000000  114.540001  111.980003  112.300003   \n",
       "2023-02-08 00:00:00+01:00  113.019997  114.320000  112.099998  113.300003   \n",
       "2023-02-09 00:00:00+01:00  113.820000  114.440002  113.099998  113.660004   \n",
       "2023-02-10 00:00:00+01:00  113.419998  114.500000  112.500000  113.739998   \n",
       "2023-02-13 00:00:00+01:00  114.300003  116.419998  114.199997  115.599998   \n",
       "2023-02-14 00:00:00+01:00  115.080002  116.980003  114.879997  115.980003   \n",
       "2023-02-15 00:00:00+01:00  116.180000  119.400002  116.080002  119.059998   \n",
       "2023-02-16 00:00:00+01:00  120.000000  124.940002  120.000000  124.940002   \n",
       "2023-02-17 00:00:00+01:00  125.000000  125.940002  123.480003  125.660004   \n",
       "2023-02-20 00:00:00+01:00  125.820000  126.040001  123.080002  123.500000   \n",
       "\n",
       "                            Volume  Dividends  Stock Splits  \n",
       "Date                                                         \n",
       "2023-01-20 00:00:00+01:00  1172376        0.0           0.0  \n",
       "2023-01-23 00:00:00+01:00   774252        0.0           0.0  \n",
       "2023-01-24 00:00:00+01:00  1197587        0.0           0.0  \n",
       "2023-01-25 00:00:00+01:00  1083764        0.0           0.0  \n",
       "2023-01-26 00:00:00+01:00  1267450        0.0           0.0  \n",
       "2023-01-27 00:00:00+01:00  1727332        0.0           0.0  \n",
       "2023-01-30 00:00:00+01:00  1080203        0.0           0.0  \n",
       "2023-01-31 00:00:00+01:00  1357678        0.0           0.0  \n",
       "2023-02-01 00:00:00+01:00  1102143        0.0           0.0  \n",
       "2023-02-02 00:00:00+01:00  1394176        0.0           0.0  \n",
       "2023-02-03 00:00:00+01:00  1587465        0.0           0.0  \n",
       "2023-02-06 00:00:00+01:00  1402253        0.0           0.0  \n",
       "2023-02-07 00:00:00+01:00  1645024        0.0           0.0  \n",
       "2023-02-08 00:00:00+01:00  1278365        0.0           0.0  \n",
       "2023-02-09 00:00:00+01:00   877598        0.0           0.0  \n",
       "2023-02-10 00:00:00+01:00  1306910        0.0           0.0  \n",
       "2023-02-13 00:00:00+01:00  1240331        0.0           0.0  \n",
       "2023-02-14 00:00:00+01:00  1245678        0.0           0.0  \n",
       "2023-02-15 00:00:00+01:00  1547125        0.0           0.0  \n",
       "2023-02-16 00:00:00+01:00  2621505        0.0           0.0  \n",
       "2023-02-17 00:00:00+01:00  1980783        0.0           0.0  \n",
       "2023-02-20 00:00:00+01:00   204804        0.0           0.0  "
      ]
     },
     "execution_count": 415,
     "metadata": {},
     "output_type": "execute_result"
    }
   ],
   "source": [
    "# period = yf.HistoricalPrices()\n",
    "period= '1mo'\n",
    "interval = '1d'\n",
    "hist = quote.history(period=period, interval=interval)\n",
    "hist"
   ]
  },
  {
   "cell_type": "code",
   "execution_count": 804,
   "id": "785c487e",
   "metadata": {},
   "outputs": [],
   "source": [
    "client = MongoClient('mongo')\n",
    "db = client[\"reddit_db\"]\n",
    "yf_db = db[\"yahoo_finance\"]\n",
    "# yf.insert_many(hist.to_dict('records'))\n",
    "# hist.drop(['Dividends','Stock Splits'], axis = 1, inplace = True)"
   ]
  },
  {
   "cell_type": "code",
   "execution_count": 805,
   "id": "280bb4b3",
   "metadata": {},
   "outputs": [],
   "source": [
    "cur = yf_db.find()"
   ]
  },
  {
   "cell_type": "code",
   "execution_count": 806,
   "id": "4bc2b465",
   "metadata": {},
   "outputs": [
    {
     "data": {
      "text/plain": [
       "{'_id': ObjectId('63ee57dddfed08907befe6aa'),\n",
       " 'Open': 134.6244491893705,\n",
       " 'High': 137.08069030895024,\n",
       " 'Low': 133.9255194088204,\n",
       " 'Close': 135.73275756835938,\n",
       " 'Volume': 63646600}"
      ]
     },
     "execution_count": 806,
     "metadata": {},
     "output_type": "execute_result"
    }
   ],
   "source": [
    "next(cur)"
   ]
  },
  {
   "cell_type": "code",
   "execution_count": 807,
   "id": "93f712e6",
   "metadata": {},
   "outputs": [
    {
     "ename": "AttributeError",
     "evalue": "module 'yfinance' has no attribute 'drop'",
     "output_type": "error",
     "traceback": [
      "\u001b[0;31m---------------------------------------------------------------------------\u001b[0m",
      "\u001b[0;31mAttributeError\u001b[0m                            Traceback (most recent call last)",
      "Cell \u001b[0;32mIn[807], line 1\u001b[0m\n\u001b[0;32m----> 1\u001b[0m \u001b[43myf\u001b[49m\u001b[38;5;241;43m.\u001b[39;49m\u001b[43mdrop\u001b[49m()\n",
      "\u001b[0;31mAttributeError\u001b[0m: module 'yfinance' has no attribute 'drop'"
     ]
    }
   ],
   "source": [
    "yf.drop()"
   ]
  },
  {
   "cell_type": "code",
   "execution_count": 808,
   "id": "8dd7ac9b",
   "metadata": {},
   "outputs": [],
   "source": [
    "from yf_data import *"
   ]
  },
  {
   "cell_type": "code",
   "execution_count": 809,
   "id": "e7e32519",
   "metadata": {},
   "outputs": [],
   "source": [
    "yf_data()"
   ]
  },
  {
   "cell_type": "code",
   "execution_count": 810,
   "id": "2c64a540",
   "metadata": {},
   "outputs": [
    {
     "name": "stdout",
     "output_type": "stream",
     "text": [
      "['admin', 'config', 'local', 'reddit_db']\n"
     ]
    }
   ],
   "source": [
    "print(client.list_database_names())"
   ]
  },
  {
   "cell_type": "code",
   "execution_count": 811,
   "id": "95cbdff1",
   "metadata": {},
   "outputs": [
    {
     "data": {
      "text/plain": [
       "['yahoo_finance.collection', 'reddit', 'yahoo_finance']"
      ]
     },
     "execution_count": 811,
     "metadata": {},
     "output_type": "execute_result"
    }
   ],
   "source": [
    "db.list_collection_names()"
   ]
  },
  {
   "cell_type": "code",
   "execution_count": 819,
   "id": "df8741d4",
   "metadata": {},
   "outputs": [
    {
     "data": {
      "text/plain": [
       "<pymongo.cursor.Cursor at 0x7ff6442cb940>"
      ]
     },
     "execution_count": 819,
     "metadata": {},
     "output_type": "execute_result"
    }
   ],
   "source": [
    "yt_fin = db['reddit'].find()\n",
    "yt_fin"
   ]
  },
  {
   "cell_type": "code",
   "execution_count": 1055,
   "id": "0584ec91",
   "metadata": {},
   "outputs": [
    {
     "ename": "StopIteration",
     "evalue": "",
     "output_type": "error",
     "traceback": [
      "\u001b[0;31m---------------------------------------------------------------------------\u001b[0m",
      "\u001b[0;31mStopIteration\u001b[0m                             Traceback (most recent call last)",
      "Cell \u001b[0;32mIn[1055], line 1\u001b[0m\n\u001b[0;32m----> 1\u001b[0m \u001b[38;5;28;43mnext\u001b[39;49m\u001b[43m(\u001b[49m\u001b[43myt_fin\u001b[49m\u001b[43m)\u001b[49m\n",
      "File \u001b[0;32m~/.local/share/virtualenvs/code-AFz48Hjb/lib/python3.8/site-packages/pymongo/cursor.py:1251\u001b[0m, in \u001b[0;36mCursor.next\u001b[0;34m(self)\u001b[0m\n\u001b[1;32m   1249\u001b[0m     \u001b[38;5;28;01mreturn\u001b[39;00m \u001b[38;5;28mself\u001b[39m\u001b[38;5;241m.\u001b[39m__data\u001b[38;5;241m.\u001b[39mpopleft()\n\u001b[1;32m   1250\u001b[0m \u001b[38;5;28;01melse\u001b[39;00m:\n\u001b[0;32m-> 1251\u001b[0m     \u001b[38;5;28;01mraise\u001b[39;00m \u001b[38;5;167;01mStopIteration\u001b[39;00m\n",
      "\u001b[0;31mStopIteration\u001b[0m: "
     ]
    }
   ],
   "source": [
    "next(yt_fin)\n"
   ]
  },
  {
   "cell_type": "code",
   "execution_count": null,
   "id": "38b3e684",
   "metadata": {},
   "outputs": [],
   "source": []
  },
  {
   "cell_type": "code",
   "execution_count": null,
   "id": "bc9612e0",
   "metadata": {},
   "outputs": [],
   "source": []
  }
 ],
 "metadata": {
  "kernelspec": {
   "display_name": "Python 3 (ipykernel)",
   "language": "python",
   "name": "python3"
  },
  "language_info": {
   "codemirror_mode": {
    "name": "ipython",
    "version": 3
   },
   "file_extension": ".py",
   "mimetype": "text/x-python",
   "name": "python",
   "nbconvert_exporter": "python",
   "pygments_lexer": "ipython3",
   "version": "3.8.16"
  }
 },
 "nbformat": 4,
 "nbformat_minor": 5
}
