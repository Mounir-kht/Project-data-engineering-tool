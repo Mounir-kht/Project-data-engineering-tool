{
 "cells": [
  {
   "cell_type": "code",
   "execution_count": 2,
   "id": "f9678cb1",
   "metadata": {},
   "outputs": [
    {
     "ename": "ModuleNotFoundError",
     "evalue": "No module named 'yfinance'",
     "output_type": "error",
     "traceback": [
      "\u001b[0;31m---------------------------------------------------------------------------\u001b[0m",
      "\u001b[0;31mModuleNotFoundError\u001b[0m                       Traceback (most recent call last)",
      "Cell \u001b[0;32mIn[2], line 1\u001b[0m\n\u001b[0;32m----> 1\u001b[0m \u001b[38;5;28;01mimport\u001b[39;00m \u001b[38;5;21;01myfinance\u001b[39;00m \u001b[38;5;28;01mas\u001b[39;00m \u001b[38;5;21;01myf\u001b[39;00m\n\u001b[1;32m      2\u001b[0m \u001b[38;5;28;01mfrom\u001b[39;00m \u001b[38;5;21;01mpymongo\u001b[39;00m \u001b[38;5;28;01mimport\u001b[39;00m MongoClient\n",
      "\u001b[0;31mModuleNotFoundError\u001b[0m: No module named 'yfinance'"
     ]
    }
   ],
   "source": [
    "import yfinance as yf\n",
    "from pymongo import MongoClient"
   ]
  },
  {
   "cell_type": "code",
   "execution_count": null,
   "id": "25eed369",
   "metadata": {},
   "outputs": [],
   "source": [
    "#!pip install yfinance"
   ]
  },
  {
   "cell_type": "code",
   "execution_count": null,
   "id": "c366fe61",
   "metadata": {},
   "outputs": [],
   "source": [
    "quote = yf.Ticker('AIR.PA')"
   ]
  },
  {
   "cell_type": "code",
   "execution_count": null,
   "id": "5a314fc9",
   "metadata": {},
   "outputs": [],
   "source": [
    "# period = yf.HistoricalPrices()\n",
    "period= '1mo'\n",
    "interval = '1d'\n",
    "hist = quote.history(period=period, interval=interval)\n",
    "hist"
   ]
  },
  {
   "cell_type": "code",
   "execution_count": null,
   "id": "785c487e",
   "metadata": {},
   "outputs": [],
   "source": [
    "client = MongoClient('mongo')\n",
    "db = client[\"reddit_db\"]\n",
    "yf_db = db[\"yahoo_finance\"]\n",
    "# yf.insert_many(hist.to_dict('records'))\n",
    "# hist.drop(['Dividends','Stock Splits'], axis = 1, inplace = True)"
   ]
  },
  {
   "cell_type": "code",
   "execution_count": null,
   "id": "280bb4b3",
   "metadata": {},
   "outputs": [],
   "source": [
    "cur = yf_db.find()"
   ]
  },
  {
   "cell_type": "code",
   "execution_count": 806,
   "id": "4bc2b465",
   "metadata": {},
   "outputs": [
    {
     "data": {
      "text/plain": [
       "{'_id': ObjectId('63ee57dddfed08907befe6aa'),\n",
       " 'Open': 134.6244491893705,\n",
       " 'High': 137.08069030895024,\n",
       " 'Low': 133.9255194088204,\n",
       " 'Close': 135.73275756835938,\n",
       " 'Volume': 63646600}"
      ]
     },
     "execution_count": 806,
     "metadata": {},
     "output_type": "execute_result"
    }
   ],
   "source": [
    "next(cur)"
   ]
  },
  {
   "cell_type": "code",
   "execution_count": 807,
   "id": "93f712e6",
   "metadata": {},
   "outputs": [
    {
     "ename": "AttributeError",
     "evalue": "module 'yfinance' has no attribute 'drop'",
     "output_type": "error",
     "traceback": [
      "\u001b[0;31m---------------------------------------------------------------------------\u001b[0m",
      "\u001b[0;31mAttributeError\u001b[0m                            Traceback (most recent call last)",
      "Cell \u001b[0;32mIn[807], line 1\u001b[0m\n\u001b[0;32m----> 1\u001b[0m \u001b[43myf\u001b[49m\u001b[38;5;241;43m.\u001b[39;49m\u001b[43mdrop\u001b[49m()\n",
      "\u001b[0;31mAttributeError\u001b[0m: module 'yfinance' has no attribute 'drop'"
     ]
    }
   ],
   "source": [
    "yf.drop()"
   ]
  },
  {
   "cell_type": "code",
   "execution_count": 808,
   "id": "8dd7ac9b",
   "metadata": {},
   "outputs": [],
   "source": [
    "from yf_data import *"
   ]
  },
  {
   "cell_type": "code",
   "execution_count": 809,
   "id": "e7e32519",
   "metadata": {},
   "outputs": [],
   "source": [
    "yf_data()"
   ]
  },
  {
   "cell_type": "code",
   "execution_count": 810,
   "id": "2c64a540",
   "metadata": {},
   "outputs": [
    {
     "name": "stdout",
     "output_type": "stream",
     "text": [
      "['admin', 'config', 'local', 'reddit_db']\n"
     ]
    }
   ],
   "source": [
    "print(client.list_database_names())"
   ]
  },
  {
   "cell_type": "code",
   "execution_count": 811,
   "id": "95cbdff1",
   "metadata": {},
   "outputs": [
    {
     "data": {
      "text/plain": [
       "['yahoo_finance.collection', 'reddit', 'yahoo_finance']"
      ]
     },
     "execution_count": 811,
     "metadata": {},
     "output_type": "execute_result"
    }
   ],
   "source": [
    "db.list_collection_names()"
   ]
  },
  {
   "cell_type": "code",
   "execution_count": 819,
   "id": "df8741d4",
   "metadata": {},
   "outputs": [
    {
     "data": {
      "text/plain": [
       "<pymongo.cursor.Cursor at 0x7ff6442cb940>"
      ]
     },
     "execution_count": 819,
     "metadata": {},
     "output_type": "execute_result"
    }
   ],
   "source": [
    "yt_fin = db['reddit'].find()\n",
    "yt_fin"
   ]
  },
  {
   "cell_type": "code",
   "execution_count": 1055,
   "id": "0584ec91",
   "metadata": {},
   "outputs": [
    {
     "ename": "StopIteration",
     "evalue": "",
     "output_type": "error",
     "traceback": [
      "\u001b[0;31m---------------------------------------------------------------------------\u001b[0m",
      "\u001b[0;31mStopIteration\u001b[0m                             Traceback (most recent call last)",
      "Cell \u001b[0;32mIn[1055], line 1\u001b[0m\n\u001b[0;32m----> 1\u001b[0m \u001b[38;5;28;43mnext\u001b[39;49m\u001b[43m(\u001b[49m\u001b[43myt_fin\u001b[49m\u001b[43m)\u001b[49m\n",
      "File \u001b[0;32m~/.local/share/virtualenvs/code-AFz48Hjb/lib/python3.8/site-packages/pymongo/cursor.py:1251\u001b[0m, in \u001b[0;36mCursor.next\u001b[0;34m(self)\u001b[0m\n\u001b[1;32m   1249\u001b[0m     \u001b[38;5;28;01mreturn\u001b[39;00m \u001b[38;5;28mself\u001b[39m\u001b[38;5;241m.\u001b[39m__data\u001b[38;5;241m.\u001b[39mpopleft()\n\u001b[1;32m   1250\u001b[0m \u001b[38;5;28;01melse\u001b[39;00m:\n\u001b[0;32m-> 1251\u001b[0m     \u001b[38;5;28;01mraise\u001b[39;00m \u001b[38;5;167;01mStopIteration\u001b[39;00m\n",
      "\u001b[0;31mStopIteration\u001b[0m: "
     ]
    }
   ],
   "source": [
    "next(yt_fin)\n"
   ]
  },
  {
   "cell_type": "code",
   "execution_count": null,
   "id": "38b3e684",
   "metadata": {},
   "outputs": [],
   "source": []
  },
  {
   "cell_type": "code",
   "execution_count": null,
   "id": "bc9612e0",
   "metadata": {},
   "outputs": [],
   "source": []
  }
 ],
 "metadata": {
  "kernelspec": {
   "display_name": "Python 3 (ipykernel)",
   "language": "python",
   "name": "python3"
  },
  "language_info": {
   "codemirror_mode": {
    "name": "ipython",
    "version": 3
   },
   "file_extension": ".py",
   "mimetype": "text/x-python",
   "name": "python",
   "nbconvert_exporter": "python",
   "pygments_lexer": "ipython3",
   "version": "3.8.16"
  }
 },
 "nbformat": 4,
 "nbformat_minor": 5
}
