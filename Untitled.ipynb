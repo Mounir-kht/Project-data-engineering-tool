{
 "cells": [
  {
   "cell_type": "code",
   "execution_count": 1,
   "id": "04d0e3f4",
   "metadata": {},
   "outputs": [],
   "source": [
    "from pymongo import MongoClient"
   ]
  },
  {
   "cell_type": "code",
   "execution_count": 2,
   "id": "d27c6314",
   "metadata": {},
   "outputs": [],
   "source": [
    "client = MongoClient('mongo')\n",
    "db = client[\"reddit_db\"]\n",
    "reddit = db[\"reddit\"]"
   ]
  },
  {
   "cell_type": "code",
   "execution_count": 3,
   "id": "db5d2621",
   "metadata": {},
   "outputs": [],
   "source": [
    "cur=reddit.find()"
   ]
  },
  {
   "cell_type": "code",
   "execution_count": 4,
   "id": "6ce444a1",
   "metadata": {},
   "outputs": [
    {
     "name": "stdout",
     "output_type": "stream",
     "text": [
      "------\n",
      "{'_id': ObjectId('63f5f0630c4c2932afcb4e4c'), 'post_id': 't3_zwt5rs', 'title': 'What to do when I got scammed by discord trader?', 'category': 'Advice', 'text': ''}\n",
      "------\n",
      "{'_id': ObjectId('63f5f0660c4c2932afcb4e4d'), 'post_id': 't3_118tmne', 'title': 'Created online auto trading bot system - with backtesting - Looking for ML/DL companion', 'category': 'Algo - trading', 'text': 'Hi there.\\n\\nhttps://preview.redd.it/1swj6swsipja1.png?width=2550&format=png&auto=webp&v=enabled&s=f561e5022ace83cb0612b6b6376f785b373150fd\\nhttps://preview.redd.it/euvposwsipja1.png?width=2560&format=png&auto=webp&v=enabled&s=0e097d3e671728df016f91f900eab578912d75cd\\nhttps://preview.redd.it/e3wk8twsipja1.png?width=1153&format=png&auto=webp&v=enabled&s=5610e40a042a31e6da5f0e6fb08bdab0cec3db06\\nNot really sure if this the correct sub, but giving it a try anyway.\\nI created a webapp, for making trading bots with JS/TS (Angular + Node). It runs multi-threaded and runs over 15 MILLION candles per minute with backtesting (6c/12thread - so pretty optimized).'}\n",
      "------\n",
      "{'_id': ObjectId('63f5f0680c4c2932afcb4e4e'), 'post_id': 't3_118uf50', 'title': 'If you were going to bid on a trade and the price was forecast to go down what would you do?', 'category': 'Question', 'text': 'Can anyone help me on what would be best course of action as I’m stuck on this question and can’t find any answers online. It is for a project.'}\n",
      "------\n",
      "{'_id': ObjectId('63f5f06b0c4c2932afcb4e4f'), 'post_id': 't3_118iyc4', 'title': 'With the threat of Recession increasing everyday, how does it impact your strategy?', 'category': 'Question', 'text': \"Obviously, the risk of a recession can have a big impact on how successful day trading is. During a recession, the stock market tends to be extremely unpredictable, which will continue to make daytrading a significantly more difficult task. It seems like there are fewer opportunities to capitalize on during recessions due to receding volume levels and companies hitting the markets with news that can swing a stock 10% overnight. Even the large cap stock swings have been insanity.\\nI have been trying out PlutoFi to automate some of my risk mitigation practices, but they don't offer live trading for U.S. equities yet (only papertrading), so that won't work. I want to find tools to help me grow as a trader. How do you guys shift your focus during recessions in order to remain profitable? Does your strategy or process change at all? Is there a platform you would recommend trying out for building upon your skills and staying risk averse?\"}\n",
      "------\n",
      "{'_id': ObjectId('63f5f06e0c4c2932afcb4e50'), 'post_id': 't3_1188rxu', 'title': 'Price Action + Key levels (Supply and Demand zones) Zoom session', 'category': 'Discussion', 'text': \"Hello,\\nI’ve been organising zoom sessions for traders who want to learn about Supply & Demand and Price Action analysis to understand the market better and use them for high probability trading. I am doing another session for all who are willing to join on (Thursday, 23rd Feb) around 12pm NY time. It’s a free session, anyone can join. I will be explaining about Supply and Demand along with price action to trade.\\nI'll mainly be talking about: (1) High probability entry points - how to spot them - when to use them to trade - on 4h and 1h timeframes, (2) key levels to choose as entry points, (3) momentum in price action (why it's so important to decide if it's a buy or a sell for the day) and (4) market structure, the basics.\\nThis should definitely give you a clear idea of what to look for in the market everyday and I hope you can all use this in your trading methods / strategy as a confluence for better trading!\"}\n",
      "------\n",
      "{'_id': ObjectId('63f5f06e0c4c2932afcb4e51'), 'post_id': 't3_118of7q', 'title': 'Why aren\\'t these \"Twitter Traders\" working at a fund?', 'category': 'Question', 'text': 'There are numerous \"profitable\" trading gurus within the twitter space. Most of them are selling a course or membership to people who want to learn how to trade like them. These traders do however post proof of broker statements/proof of profit on trades. My question is, if these traders are so profitable using their strategy, why are they trying to sell their followers on buying their course/membership to learn their ways. I understand that selling a course/membership can be very lucrative, but why aren\\'t these guys working for a hedge fund. If their trading numbers do check out, these guys could be making way more money working for a fund or even running their own fund, compared to that of their course/membership revenue. With this logic in mind, it leads me to believe that these guys aren\\'t as profitable as they say/prove they are, and that they are making more money off being a \"guru\" than they are through trading. Anyone have an explanation as to why these guys aren\\'t on Wallstreet if they are truly profitable traders?'}\n",
      "------\n",
      "{'_id': ObjectId('63f5f06f0c4c2932afcb4e52'), 'post_id': 't3_118c145', 'title': 'Am i backtesting right?', 'category': 'Strategy', 'text': \"I just started to backtest my strategy, and it's going fairly fine i would say, but i seem to only be making setups for higher timeframes, (30 days lol) i've been practicing on btc futures. Is there a way i can focus on lower timeframes? or how do people get high returns faster?\"}\n",
      "------\n",
      "{'_id': ObjectId('63f5f06f0c4c2932afcb4e53'), 'post_id': 't3_117rvle', 'title': 'How to properly setup your position size (formula and calculator)', 'category': 'Resources', 'text': 'You can use my position sizing calculator to easily respect your own risk. It also calculate leverage. Google trend surfers position size.\\nIt is good for crypto, stock or anything else.\\nAutomaticly gives you leverage if needed, and position size in amount, percent or units.\\nBut if you want to understand how it works, continue reading..\\nThe formulas to calculate your position sizes require 4 elements:\\nAccount Size — This is the total USDT, Bitcoin, Ethereum or any other crypto that you use for your trading. Include any open trade and update your account size once your trade is exited. Example: You have 1000 USDT, you open a trade with a position size of 100 USDT. For your next trade, you will still use the 1000 USDT to calculate your Position Size. Once your trade is closed whether, in profit or loss, you will then update your Account Size by adding the profit or loss of that close trade.'}\n",
      "------\n",
      "{'_id': ObjectId('63f5f0700c4c2932afcb4e54'), 'post_id': 't3_1182dbu', 'title': 'since you are a trader:', 'category': 'Advice', 'text': \"What outcome are you looking to achieve?\\nWhat is missing or what do you need to help you achieve that outcome?\\nI'm asking because I'm trying to help my wife. She is a day trader and her main focus is increase her profitability long term and make trading a sustainable and viable income.\\nHer technique is good and she has a good edge, but she has struggled with mindset issues for years and she finally sees results but I would like to help her even more.\\nI hope that getting new perspectives on trading and what is missing from other traders can bring insights that I can translate to help my wife succeed.\"}\n",
      "------\n",
      "{'_id': ObjectId('63f5f0710c4c2932afcb4e55'), 'post_id': 't3_1182dbu', 'title': 'since you are a trader:', 'category': 'Advice', 'text': \"What outcome are you looking to achieve?\\nWhat is missing or what do you need to help you achieve that outcome?\\nI'm asking because I'm trying to help my wife. She is a day trader and her main focus is increase her profitability long term and make trading a sustainable and viable income.\\nHer technique is good and she has a good edge, but she has struggled with mindset issues for years and she finally sees results but I would like to help her even more.\\nI hope that getting new perspectives on trading and what is missing from other traders can bring insights that I can translate to help my wife succeed.\"}\n",
      "------\n",
      "{'_id': ObjectId('63f5f0730c4c2932afcb4e56'), 'post_id': 't3_1182dbu', 'title': 'since you are a trader:', 'category': 'Advice', 'text': \"What outcome are you looking to achieve?\\nWhat is missing or what do you need to help you achieve that outcome?\\nI'm asking because I'm trying to help my wife. She is a day trader and her main focus is increase her profitability long term and make trading a sustainable and viable income.\\nHer technique is good and she has a good edge, but she has struggled with mindset issues for years and she finally sees results but I would like to help her even more.\\nI hope that getting new perspectives on trading and what is missing from other traders can bring insights that I can translate to help my wife succeed.\"}\n",
      "------\n",
      "{'_id': ObjectId('63f5f0730c4c2932afcb4e57'), 'post_id': 't3_1182dbu', 'title': 'since you are a trader:', 'category': 'Advice', 'text': \"What outcome are you looking to achieve?\\nWhat is missing or what do you need to help you achieve that outcome?\\nI'm asking because I'm trying to help my wife. She is a day trader and her main focus is increase her profitability long term and make trading a sustainable and viable income.\\nHer technique is good and she has a good edge, but she has struggled with mindset issues for years and she finally sees results but I would like to help her even more.\\nI hope that getting new perspectives on trading and what is missing from other traders can bring insights that I can translate to help my wife succeed.\"}\n",
      "------\n",
      "{'_id': ObjectId('63f5f0740c4c2932afcb4e58'), 'post_id': 't3_1182dbu', 'title': 'since you are a trader:', 'category': 'Advice', 'text': \"What outcome are you looking to achieve?\\nWhat is missing or what do you need to help you achieve that outcome?\\nI'm asking because I'm trying to help my wife. She is a day trader and her main focus is increase her profitability long term and make trading a sustainable and viable income.\\nHer technique is good and she has a good edge, but she has struggled with mindset issues for years and she finally sees results but I would like to help her even more.\\nI hope that getting new perspectives on trading and what is missing from other traders can bring insights that I can translate to help my wife succeed.\"}\n",
      "------\n",
      "{'_id': ObjectId('63f5f0750c4c2932afcb4e59'), 'post_id': 't3_1182dbu', 'title': 'since you are a trader:', 'category': 'Advice', 'text': \"What outcome are you looking to achieve?\\nWhat is missing or what do you need to help you achieve that outcome?\\nI'm asking because I'm trying to help my wife. She is a day trader and her main focus is increase her profitability long term and make trading a sustainable and viable income.\\nHer technique is good and she has a good edge, but she has struggled with mindset issues for years and she finally sees results but I would like to help her even more.\\nI hope that getting new perspectives on trading and what is missing from other traders can bring insights that I can translate to help my wife succeed.\"}\n",
      "------\n",
      "{'_id': ObjectId('63f5f0760c4c2932afcb4e5a'), 'post_id': 't3_1182dbu', 'title': 'since you are a trader:', 'category': 'Advice', 'text': \"What outcome are you looking to achieve?\\nWhat is missing or what do you need to help you achieve that outcome?\\nI'm asking because I'm trying to help my wife. She is a day trader and her main focus is increase her profitability long term and make trading a sustainable and viable income.\\nHer technique is good and she has a good edge, but she has struggled with mindset issues for years and she finally sees results but I would like to help her even more.\\nI hope that getting new perspectives on trading and what is missing from other traders can bring insights that I can translate to help my wife succeed.\"}\n",
      "------\n",
      "{'_id': ObjectId('63f5f0770c4c2932afcb4e5b'), 'post_id': 't3_1182dbu', 'title': 'since you are a trader:', 'category': 'Advice', 'text': \"What outcome are you looking to achieve?\\nWhat is missing or what do you need to help you achieve that outcome?\\nI'm asking because I'm trying to help my wife. She is a day trader and her main focus is increase her profitability long term and make trading a sustainable and viable income.\\nHer technique is good and she has a good edge, but she has struggled with mindset issues for years and she finally sees results but I would like to help her even more.\\nI hope that getting new perspectives on trading and what is missing from other traders can bring insights that I can translate to help my wife succeed.\"}\n",
      "------\n",
      "{'_id': ObjectId('63f5f07a0c4c2932afcb4e5c'), 'post_id': 't3_1182dbu', 'title': 'since you are a trader:', 'category': 'Advice', 'text': \"What outcome are you looking to achieve?\\nWhat is missing or what do you need to help you achieve that outcome?\\nI'm asking because I'm trying to help my wife. She is a day trader and her main focus is increase her profitability long term and make trading a sustainable and viable income.\\nHer technique is good and she has a good edge, but she has struggled with mindset issues for years and she finally sees results but I would like to help her even more.\\nI hope that getting new perspectives on trading and what is missing from other traders can bring insights that I can translate to help my wife succeed.\"}\n",
      "------\n",
      "{'_id': ObjectId('63f5f07a0c4c2932afcb4e5d'), 'post_id': 't3_11802sr', 'title': 'Ultrawide vs Dual monitors?', 'category': 'Question', 'text': 'What monitor do you use for trading?? Ultrawide or dual monitors??'}\n",
      "------\n",
      "{'_id': ObjectId('63f5f07a0c4c2932afcb4e5e'), 'post_id': 't3_117rqej', 'title': 'How to calculate your position size (formula and online calculator)', 'category': 'Resources', 'text': 'You can use my position size calculator to easily respect your own risk. It also calculate leverage.\\nThe formulas to calculate your position sizes require 4 elements:\\nAccount Size — This is the total USDT, Bitcoin, Ethereum or any other crypto that you use for your trading. Include any open trade and update your account size once your trade is exited. Example: You have 1000 USDT, you open a trade with a position size of 100 USDT. For your next trade, you will still use the 1000 USDT to calculate your Position Size. Once your trade is closed whether, in profit or loss, you will then update your Account Size by adding the profit or loss of that close trade.\\nEntry Price — This is the Limit price at which your trading strategy tells you to go Long or Short. If you are entering your trade using a Market order, use an approximation of your entry price. Make it the worst entry price, like there will be slippage. By doing this, you will protect yourself from a real surprise if the market is highly volatile.'}\n",
      "------\n",
      "{'_id': ObjectId('63f5f07a0c4c2932afcb4e5f'), 'post_id': 't3_117qwg6', 'title': 'Seven Principles of Great Trading Audio Series- Van Tharp', 'category': 'Question', 'text': 'Hi guys,\\nHas? anyone heard Seven Principles of Great Trading Audio Series from Dr Van Tharp?\\nIs it worth it? It is $49 on the website, but it would be nice to hear any feedback.\\nThanks\\nFredy'}\n",
      "------\n",
      "{'_id': ObjectId('63f5f07a0c4c2932afcb4e60'), 'post_id': 't3_117oqzy', 'title': 'New Day Trader Tax Question', 'category': 'Question', 'text': \"Hello, I started day trading, swing trading full time and investing in stocks in 2022 but made only about $8,000 (all dividends, gains included). Would I still need file a US federal tax return? I qualify as single and no dependents. I would like to get Trader Tax Status but am thinking about requesting it for 2023 onward. So I'm thinking I don't need to file a tax return for 2022 since I didn't make much. I am day trading full time this year as well.\\nNew to this profession so will appreciate any advice you can give on this. I don't want to be scammed by any day trading tax preparation service as I made very little income last year.\"}\n",
      "------\n",
      "{'_id': ObjectId('63f5f07a0c4c2932afcb4e61'), 'post_id': 't3_117a2ab', 'title': 'GBPUSD Historical Candlestick Data', 'category': 'Forex', 'text': \"I'm looking to potentially obtain a large sum of candlestick data. I am specifically looking for 1 minute GBPUSD chart data that goes back anywhere from 1-5+ years. I've dictated my trading edge and would like to have more data that I can backtest. Trading View Premium only allows you to go back so far on the 1 minute time frame (maybe a few months). If anyone has any helpful information, it'd be much appreciated. Thank you\"}\n",
      "------\n",
      "{'_id': ObjectId('63f5f07b0c4c2932afcb4e62'), 'post_id': 't3_117mzge', 'title': 'ETF and Market Evaluation for week of 02/21/2023', 'category': 'Discussion', 'text': 'Recap On Last Weeks Market Action:\\nSPY closed down 0.19%\\nQQQ closed up 0.49%\\nDow Jones Industrial closed down 0.13%\\nVIX closed down 2.58%\\nGood evening and happy Presidents Day, I hope you all have had a nice and relaxing three day break from the markets. Last week the market was slightly rattled with the release of hotter than expected economic data. However, major indices have held their ground and continue to be range bound. This week we have the FOMC Minutes on Wednesday followed by GDP and Jobless claims on Thursday, these are thing to keep on eye on. The markets are still in good shape and continue to trade well above the 52 week lows set in late October. Besides the major indices, there continues to be sector and industry ETFs basing along with individual companies.'}\n",
      "------\n",
      "{'_id': ObjectId('63f5f07b0c4c2932afcb4e63'), 'post_id': 't3_117kf49', 'title': 'Important Wash Sale Question - United States', 'category': 'Discussion', 'text': 'I have actively traded a pair of ETFs throughout the year, seeking to profit from short-term moves. Clearly, with this style of trading, I have incurred many wash sales. My question is how I can realize my losses in the current tax year. I do not wish to file for TTS and do mark-to-market accounting.\\nFrom my understanding, I need to purchase the equities that I have been trading, wait 30 days, sell them, then wait another 30 days before actively trading them again. Additionally, the sell date must be within the year that I wish to realize losses. - Once this is done, my cost basis will be added to the shares which I sold, and I will be able to claim the loss on my tax return.\\nAm I correct in assuming that I need to first hold the shares for 30 days before selling? Many things I have seen online state that all you need to worry about is having 30 days in between your sell date and the time in which you begin trading the stock again. This does not seem to be in line with what the IRS says which is that for the sale of an equity to not be considered a wash sale, there must not be any transactions 30 days prior or after the sell date.'}\n",
      "------\n",
      "{'_id': ObjectId('63f5f07b0c4c2932afcb4e64'), 'post_id': 't3_1174vtf', 'title': 'Pre-Market brief', 'category': '', 'text': 'Pre-market brief of news and information that may be important to a trader this day. Feel free to leave a comment with any suggestions for improvements, or anything at all.\\nStock Futures:\\nPre-Market Trading\\nAsia Markets\\nEuropean Markets\\nUpcoming Earnings:\\nEarnings Calendar\\nEarnings Calendar II'}\n",
      "------\n",
      "{'_id': ObjectId('63f5f07b0c4c2932afcb4e65'), 'post_id': 't3_117e7px', 'title': 'Broker', 'category': 'Brokers', 'text': \"Hello guys,\\nCan u recommend me a good broker (US) to trade us30 scalping\\nI'm looking for low spread, solid regulated broker and good servers.\\nThanks in advance!\"}\n",
      "------\n",
      "{'_id': ObjectId('63f5f07b0c4c2932afcb4e66'), 'post_id': 't3_1172keu', 'title': 'Setting Stops - Noob Question', 'category': 'Forex', 'text': \"I've just started messing about with Forex with a micro account balance.\\nI decided to go long on AUD/NZD last night right when the market reopened after the weekend. Previously I've set my stops at 1.5 x ATR on the 15 minute time frame, which has been working ok. Last night my two trades got taken out almost instantly due to high volatility, one had the stop below the price on one minute chart but I guess it just peaked really fast or something...\\nFollowing this I decided to set my stops at 1.5 x ATR on the one hour time frame. These work out to be around 10X the 15 minute stops. Does everyone use the longer time frames for setting stops, or other suggestions? Sucks that AUD/NZD has flown up now and my trade got stopped out, I didn't redo that one :/\\nI definitely won't be putting trades on right when market opens again anyway.\"}\n",
      "------\n",
      "{'_id': ObjectId('63f5f07c0c4c2932afcb4e67'), 'post_id': 't3_11757oi', 'title': 'New to trading; need some advice regarding what to learn', 'category': 'Question', 'text': \"Hey all. I'm new to trading and obviously there's a lot to learn, to the point where it almost feels overwhelming.\\nI know I personally learn by doing, so I'm prepared to lose a bit of cash doing trial and error if it means I learn my way around the very basics of stocks. However, I would like to ask some of you seasonal traders; are there any particular terms/concepts I should learn about? Foundational ones you feel are important to trading success? If so, I would greatly appreciate it if you could list them in the comments! Thank you (:\\nOh, and any other general advice for beginning is appreciated, lol\"}\n",
      "------\n",
      "{'_id': ObjectId('63f5f07c0c4c2932afcb4e68'), 'post_id': 't3_1170g9p', 'title': 'What is the 0.01 between the buy and sell? This is metatrader5 . Also how I set stop losses and take profits?', 'category': 'Question', 'text': ''}\n",
      "------\n",
      "{'_id': ObjectId('63f5f07c0c4c2932afcb4e69'), 'post_id': 't3_116y750', 'title': 'Does white oak fx provide good info?', 'category': 'Discussion', 'text': 'I’m trying to get into cot data analysis and I stumbled apon this youtuber what’s your opinions on him?'}\n"
     ]
    }
   ],
   "source": [
    "i=0\n",
    "for doc in cur:\n",
    "    i+=1\n",
    "    print('------')\n",
    "    print(doc)"
   ]
  },
  {
   "cell_type": "code",
   "execution_count": 5,
   "id": "b6cf7332",
   "metadata": {},
   "outputs": [
    {
     "data": {
      "text/plain": [
       "30"
      ]
     },
     "execution_count": 5,
     "metadata": {},
     "output_type": "execute_result"
    }
   ],
   "source": [
    "i"
   ]
  },
  {
   "cell_type": "code",
   "execution_count": 8,
   "id": "a1ddb4a3",
   "metadata": {},
   "outputs": [
    {
     "data": {
      "text/plain": [
       "'text_text'"
      ]
     },
     "execution_count": 8,
     "metadata": {},
     "output_type": "execute_result"
    }
   ],
   "source": [
    "reddit.create_index([(\"text\",\"text\")])"
   ]
  },
  {
   "cell_type": "code",
   "execution_count": 9,
   "id": "4999ea70",
   "metadata": {},
   "outputs": [
    {
     "data": {
      "text/plain": [
       "{'_id_': {'v': 2, 'key': [('_id', 1)]},\n",
       " 'text_text': {'v': 2,\n",
       "  'key': [('_fts', 'text'), ('_ftsx', 1)],\n",
       "  'weights': SON([('text', 1)]),\n",
       "  'default_language': 'english',\n",
       "  'language_override': 'language',\n",
       "  'textIndexVersion': 3}}"
      ]
     },
     "execution_count": 9,
     "metadata": {},
     "output_type": "execute_result"
    }
   ],
   "source": [
    "reddit.index_information()"
   ]
  },
  {
   "cell_type": "code",
   "execution_count": 15,
   "id": "b0b035da",
   "metadata": {},
   "outputs": [],
   "source": [
    "cur = reddit.find( { \"$text\": { \"$search\": \"DoW\" ,\"$caseSensitive\": False} } )"
   ]
  },
  {
   "cell_type": "code",
   "execution_count": 16,
   "id": "80201c72",
   "metadata": {},
   "outputs": [
    {
     "name": "stdout",
     "output_type": "stream",
     "text": [
      "----\n",
      "{'_id': ObjectId('63f5ed4a48f7b5c1b3a79e76'), 'post_id': 't3_117mzge', 'title': 'ETF and Market Evaluation for week of 02/21/2023', 'category': 'Discussion', 'text': 'Recap On Last Weeks Market Action:\\nSPY closed down 0.19%\\nQQQ closed up 0.49%\\nDow Jones Industrial closed down 0.13%\\nVIX closed down 2.58%\\nGood evening and happy Presidents Day, I hope you all have had a nice and relaxing three day break from the markets. Last week the market was slightly rattled with the release of hotter than expected economic data. However, major indices have held their ground and continue to be range bound. This week we have the FOMC Minutes on Wednesday followed by GDP and Jobless claims on Thursday, these are thing to keep on eye on. The markets are still in good shape and continue to trade well above the 52 week lows set in late October. Besides the major indices, there continues to be sector and industry ETFs basing along with individual companies.'}\n"
     ]
    },
    {
     "data": {
      "text/plain": [
       "1"
      ]
     },
     "execution_count": 16,
     "metadata": {},
     "output_type": "execute_result"
    }
   ],
   "source": [
    "f=0\n",
    "for doc in cur:\n",
    "    f+=1\n",
    "    print('----')\n",
    "    print(doc)\n",
    "f"
   ]
  },
  {
   "cell_type": "code",
   "execution_count": 5,
   "id": "441a22ee",
   "metadata": {},
   "outputs": [
    {
     "data": {
      "text/plain": [
       "{'_id_': {'v': 2, 'key': [('_id', 1)]},\n",
       " 'text_text': {'v': 2,\n",
       "  'key': [('_fts', 'text'), ('_ftsx', 1)],\n",
       "  'weights': SON([('text', 1)]),\n",
       "  'default_language': 'english',\n",
       "  'language_override': 'language',\n",
       "  'textIndexVersion': 3}}"
      ]
     },
     "execution_count": 5,
     "metadata": {},
     "output_type": "execute_result"
    }
   ],
   "source": [
    "reddit.drop_indexes()\n",
    "reddit.create_index([(\"text\",\"text\")])\n",
    "reddit.index_information()"
   ]
  },
  {
   "cell_type": "code",
   "execution_count": null,
   "id": "b363da87",
   "metadata": {},
   "outputs": [],
   "source": [
    "cur = reddit.find({ \"$text\": { \"$search\": \"stock BTC trading\" } })\n",
    "\n",
    "\n",
    "f=0\n",
    "for doc in cur:\n",
    "    f+=1\n",
    "    print('----')\n",
    "    print(doc)\n",
    "f"
   ]
  },
  {
   "cell_type": "code",
   "execution_count": 15,
   "id": "81e9274c",
   "metadata": {},
   "outputs": [],
   "source": [
    "db['reddit'].drop()"
   ]
  },
  {
   "cell_type": "code",
   "execution_count": null,
   "id": "9b66cd6f",
   "metadata": {},
   "outputs": [],
   "source": []
  }
 ],
 "metadata": {
  "kernelspec": {
   "display_name": "Python 3 (ipykernel)",
   "language": "python",
   "name": "python3"
  },
  "language_info": {
   "codemirror_mode": {
    "name": "ipython",
    "version": 3
   },
   "file_extension": ".py",
   "mimetype": "text/x-python",
   "name": "python",
   "nbconvert_exporter": "python",
   "pygments_lexer": "ipython3",
   "version": "3.8.16"
  }
 },
 "nbformat": 4,
 "nbformat_minor": 5
}
