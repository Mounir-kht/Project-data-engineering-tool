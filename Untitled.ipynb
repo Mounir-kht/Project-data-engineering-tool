{
 "cells": [
  {
   "cell_type": "code",
   "execution_count": 1,
   "id": "8db54d49",
   "metadata": {},
   "outputs": [
    {
     "name": "stdout",
     "output_type": "stream",
     "text": [
      "Requirement already satisfied: scrapy in /root/.local/share/virtualenvs/code-AFz48Hjb/lib/python3.8/site-packages (2.7.1)\n",
      "Requirement already satisfied: Twisted>=18.9.0 in /root/.local/share/virtualenvs/code-AFz48Hjb/lib/python3.8/site-packages (from scrapy) (22.10.0)\n",
      "Requirement already satisfied: zope.interface>=5.1.0 in /root/.local/share/virtualenvs/code-AFz48Hjb/lib/python3.8/site-packages (from scrapy) (5.5.2)\n",
      "Requirement already satisfied: w3lib>=1.17.0 in /root/.local/share/virtualenvs/code-AFz48Hjb/lib/python3.8/site-packages (from scrapy) (2.1.1)\n",
      "Requirement already satisfied: setuptools in /root/.local/share/virtualenvs/code-AFz48Hjb/lib/python3.8/site-packages (from scrapy) (65.6.3)\n",
      "Requirement already satisfied: queuelib>=1.4.2 in /root/.local/share/virtualenvs/code-AFz48Hjb/lib/python3.8/site-packages (from scrapy) (1.6.2)\n",
      "Requirement already satisfied: itemloaders>=1.0.1 in /root/.local/share/virtualenvs/code-AFz48Hjb/lib/python3.8/site-packages (from scrapy) (1.0.6)\n",
      "Requirement already satisfied: service-identity>=18.1.0 in /root/.local/share/virtualenvs/code-AFz48Hjb/lib/python3.8/site-packages (from scrapy) (21.1.0)\n",
      "Requirement already satisfied: tldextract in /root/.local/share/virtualenvs/code-AFz48Hjb/lib/python3.8/site-packages (from scrapy) (3.4.0)\n",
      "Requirement already satisfied: packaging in /root/.local/share/virtualenvs/code-AFz48Hjb/lib/python3.8/site-packages (from scrapy) (22.0)\n",
      "Requirement already satisfied: PyDispatcher>=2.0.5 in /root/.local/share/virtualenvs/code-AFz48Hjb/lib/python3.8/site-packages (from scrapy) (2.0.6)\n",
      "Requirement already satisfied: pyOpenSSL>=21.0.0 in /root/.local/share/virtualenvs/code-AFz48Hjb/lib/python3.8/site-packages (from scrapy) (23.0.0)\n",
      "Requirement already satisfied: lxml>=4.3.0 in /root/.local/share/virtualenvs/code-AFz48Hjb/lib/python3.8/site-packages (from scrapy) (4.9.2)\n",
      "Requirement already satisfied: itemadapter>=0.1.0 in /root/.local/share/virtualenvs/code-AFz48Hjb/lib/python3.8/site-packages (from scrapy) (0.7.0)\n",
      "Requirement already satisfied: cryptography>=3.3 in /root/.local/share/virtualenvs/code-AFz48Hjb/lib/python3.8/site-packages (from scrapy) (39.0.0)\n",
      "Requirement already satisfied: parsel>=1.5.0 in /root/.local/share/virtualenvs/code-AFz48Hjb/lib/python3.8/site-packages (from scrapy) (1.7.0)\n",
      "Requirement already satisfied: protego>=0.1.15 in /root/.local/share/virtualenvs/code-AFz48Hjb/lib/python3.8/site-packages (from scrapy) (0.2.1)\n",
      "Requirement already satisfied: cssselect>=0.9.1 in /root/.local/share/virtualenvs/code-AFz48Hjb/lib/python3.8/site-packages (from scrapy) (1.2.0)\n",
      "Requirement already satisfied: cffi>=1.12 in /root/.local/share/virtualenvs/code-AFz48Hjb/lib/python3.8/site-packages (from cryptography>=3.3->scrapy) (1.15.1)\n",
      "Requirement already satisfied: jmespath>=0.9.5 in /root/.local/share/virtualenvs/code-AFz48Hjb/lib/python3.8/site-packages (from itemloaders>=1.0.1->scrapy) (1.0.1)\n",
      "Requirement already satisfied: six in /root/.local/share/virtualenvs/code-AFz48Hjb/lib/python3.8/site-packages (from protego>=0.1.15->scrapy) (1.16.0)\n",
      "Requirement already satisfied: attrs>=19.1.0 in /root/.local/share/virtualenvs/code-AFz48Hjb/lib/python3.8/site-packages (from service-identity>=18.1.0->scrapy) (22.2.0)\n",
      "Requirement already satisfied: pyasn1-modules in /root/.local/share/virtualenvs/code-AFz48Hjb/lib/python3.8/site-packages (from service-identity>=18.1.0->scrapy) (0.2.8)\n",
      "Requirement already satisfied: pyasn1 in /root/.local/share/virtualenvs/code-AFz48Hjb/lib/python3.8/site-packages (from service-identity>=18.1.0->scrapy) (0.4.8)\n",
      "Requirement already satisfied: hyperlink>=17.1.1 in /root/.local/share/virtualenvs/code-AFz48Hjb/lib/python3.8/site-packages (from Twisted>=18.9.0->scrapy) (21.0.0)\n",
      "Requirement already satisfied: Automat>=0.8.0 in /root/.local/share/virtualenvs/code-AFz48Hjb/lib/python3.8/site-packages (from Twisted>=18.9.0->scrapy) (22.10.0)\n",
      "Requirement already satisfied: incremental>=21.3.0 in /root/.local/share/virtualenvs/code-AFz48Hjb/lib/python3.8/site-packages (from Twisted>=18.9.0->scrapy) (22.10.0)\n",
      "Requirement already satisfied: constantly>=15.1 in /root/.local/share/virtualenvs/code-AFz48Hjb/lib/python3.8/site-packages (from Twisted>=18.9.0->scrapy) (15.1.0)\n",
      "Requirement already satisfied: typing-extensions>=3.6.5 in /root/.local/share/virtualenvs/code-AFz48Hjb/lib/python3.8/site-packages (from Twisted>=18.9.0->scrapy) (4.4.0)\n",
      "Requirement already satisfied: requests>=2.1.0 in /root/.local/share/virtualenvs/code-AFz48Hjb/lib/python3.8/site-packages (from tldextract->scrapy) (2.28.1)\n",
      "Requirement already satisfied: idna in /root/.local/share/virtualenvs/code-AFz48Hjb/lib/python3.8/site-packages (from tldextract->scrapy) (3.4)\n",
      "Requirement already satisfied: filelock>=3.0.8 in /root/.local/share/virtualenvs/code-AFz48Hjb/lib/python3.8/site-packages (from tldextract->scrapy) (3.9.0)\n",
      "Requirement already satisfied: requests-file>=1.4 in /root/.local/share/virtualenvs/code-AFz48Hjb/lib/python3.8/site-packages (from tldextract->scrapy) (1.5.1)\n",
      "Requirement already satisfied: pycparser in /root/.local/share/virtualenvs/code-AFz48Hjb/lib/python3.8/site-packages (from cffi>=1.12->cryptography>=3.3->scrapy) (2.21)\n",
      "Requirement already satisfied: charset-normalizer<3,>=2 in /root/.local/share/virtualenvs/code-AFz48Hjb/lib/python3.8/site-packages (from requests>=2.1.0->tldextract->scrapy) (2.1.1)\n",
      "Requirement already satisfied: certifi>=2017.4.17 in /root/.local/share/virtualenvs/code-AFz48Hjb/lib/python3.8/site-packages (from requests>=2.1.0->tldextract->scrapy) (2022.12.7)\n",
      "Requirement already satisfied: urllib3<1.27,>=1.21.1 in /root/.local/share/virtualenvs/code-AFz48Hjb/lib/python3.8/site-packages (from requests>=2.1.0->tldextract->scrapy) (1.26.13)\n"
     ]
    }
   ],
   "source": [
    "!pip install scrapy"
   ]
  },
  {
   "cell_type": "code",
   "execution_count": 2,
   "id": "ebf9f098",
   "metadata": {},
   "outputs": [],
   "source": [
    "import scrapy\n",
    " #data-testid=\"post-container\""
   ]
  },
  {
   "cell_type": "markdown",
   "id": "f606446f",
   "metadata": {},
   "source": [
    "r = None\n",
    "class redditScraper(scrapy.Spider):\n",
    "    name = \"reddit post\"\n",
    "    start_urls = ['https://www.reddit.com/r/Trading/top/?f=flair_name%3A\"Stocks\"',]\n",
    "\n",
    "    def parse(self, response):\n",
    "        r = response\n",
    "#         for post in response.xpath('//div[@class=\"figsco__quote__text\"]'):\n",
    "#             text_value = cit.xpath('a/text()').extract_first()\n",
    "#             yield { 'text' : text_value }"
   ]
  },
  {
   "cell_type": "code",
   "execution_count": 5,
   "id": "1fdf4eaa",
   "metadata": {},
   "outputs": [],
   "source": [
    "r = !scrapy runspider postreddit.py"
   ]
  },
  {
   "cell_type": "code",
   "execution_count": 7,
   "id": "eb7907ee",
   "metadata": {},
   "outputs": [
    {
     "data": {
      "text/plain": [
       "IPython.utils.text.SList"
      ]
     },
     "execution_count": 7,
     "metadata": {},
     "output_type": "execute_result"
    }
   ],
   "source": [
    "type(r)"
   ]
  },
  {
   "cell_type": "code",
   "execution_count": null,
   "id": "9f779b49",
   "metadata": {},
   "outputs": [],
   "source": []
  }
 ],
 "metadata": {
  "kernelspec": {
   "display_name": "Python 3 (ipykernel)",
   "language": "python",
   "name": "python3"
  },
  "language_info": {
   "codemirror_mode": {
    "name": "ipython",
    "version": 3
   },
   "file_extension": ".py",
   "mimetype": "text/x-python",
   "name": "python",
   "nbconvert_exporter": "python",
   "pygments_lexer": "ipython3",
   "version": "3.8.16"
  }
 },
 "nbformat": 4,
 "nbformat_minor": 5
}
